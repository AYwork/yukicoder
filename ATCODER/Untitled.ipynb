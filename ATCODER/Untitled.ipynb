{
 "cells": [
  {
   "cell_type": "code",
   "execution_count": null,
   "id": "c33355ec-7314-44d5-ab55-e90f676d514e",
   "metadata": {},
   "outputs": [],
   "source": [
    "a = [2 3, 3 6, 5 7, 3 7, 1 5]"
   ]
  },
  {
   "cell_type": "code",
   "execution_count": null,
   "id": "8f60b9a2-be93-4be5-a470-282354289ece",
   "metadata": {},
   "outputs": [],
   "source": [
    "event_period = 8\n",
    "number_of_participants = 5\n",
    "attendee_list = [0] * (event_period+1) #開催日ごとのリストを用意\n",
    "\n",
    "for i in range(number_of_participants):\n",
    "    first_day, last_day = a\n",
    "    attendee_list[first_day-1] += 1\n",
    "    attendee_list[last_day] -= 1\n",
    "\n",
    "answer = 0\n",
    "for attendees_of_the_day in attendee_list[:-1]:\n",
    "    answer += attendees_of_the_day\n",
    "    print(answer)"
   ]
  },
  {
   "cell_type": "code",
   "execution_count": null,
   "id": "6da80eb2-cf09-423a-9b4c-170171e1ad84",
   "metadata": {},
   "outputs": [],
   "source": []
  }
 ],
 "metadata": {
  "kernelspec": {
   "display_name": "Python 3 (ipykernel)",
   "language": "python",
   "name": "python3"
  },
  "language_info": {
   "codemirror_mode": {
    "name": "ipython",
    "version": 3
   },
   "file_extension": ".py",
   "mimetype": "text/x-python",
   "name": "python",
   "nbconvert_exporter": "python",
   "pygments_lexer": "ipython3",
   "version": "3.11.2"
  }
 },
 "nbformat": 4,
 "nbformat_minor": 5
}
